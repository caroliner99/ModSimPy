{
 "cells": [
  {
   "cell_type": "code",
   "execution_count": 5,
   "metadata": {},
   "outputs": [],
   "source": [
    "# Configure Jupyter so figures appear in the notebook\n",
    "%matplotlib inline\n",
    "\n",
    "# Configure Jupyter to display the assigned value after an assignment\n",
    "%config InteractiveShell.ast_node_interactivity='last_expr_or_assign'\n",
    "\n",
    "# import functions from the modsim.py module\n",
    "from modsim import *\n",
    "import numpy as np"
   ]
  },
  {
   "cell_type": "code",
   "execution_count": 6,
   "metadata": {},
   "outputs": [
    {
     "data": {
      "text/html": [
       "newton"
      ],
      "text/latex": [
       "$newton$"
      ],
      "text/plain": [
       "<Unit('newton')>"
      ]
     },
     "execution_count": 6,
     "metadata": {},
     "output_type": "execute_result"
    }
   ],
   "source": [
    "radian = UNITS.radian\n",
    "m = UNITS.meter\n",
    "s = UNITS.second\n",
    "kg = UNITS.kilogram\n",
    "N = UNITS.newton"
   ]
  },
  {
   "cell_type": "code",
   "execution_count": 7,
   "metadata": {},
   "outputs": [
    {
     "data": {
      "text/plain": [
       "'state = State(wind_angle=wind_angle,\\n              wind_speed=wind_speed,\\n              wind_yx=wind_yx,\\n              wind_y=wind_y,\\n              wind_force=wind_force,\\n              wind_force_x=wind_force_x,\\n              wind_force_y=wind_force_y,\\n              drag_force=drag_force,\\n              drag_force_x=drag_force_x,\\n              drag_force_y=drag_force_y,\\n              plane_angle=plane_angle\\n             )\\n             '"
      ]
     },
     "execution_count": 7,
     "metadata": {},
     "output_type": "execute_result"
    }
   ],
   "source": [
    "'''state = State(wind_angle=wind_angle,\n",
    "              wind_speed=wind_speed,\n",
    "              wind_yx=wind_yx,\n",
    "              wind_y=wind_y,\n",
    "              wind_force=wind_force,\n",
    "              wind_force_x=wind_force_x,\n",
    "              wind_force_y=wind_force_y,\n",
    "              drag_force=drag_force,\n",
    "              drag_force_x=drag_force_x,\n",
    "              drag_force_y=drag_force_y,\n",
    "              plane_angle=plane_angle\n",
    "             )\n",
    "             '''"
   ]
  },
  {
   "cell_type": "code",
   "execution_count": 8,
   "metadata": {},
   "outputs": [
    {
     "data": {
      "text/html": [
       "<div>\n",
       "<style scoped>\n",
       "    .dataframe tbody tr th:only-of-type {\n",
       "        vertical-align: middle;\n",
       "    }\n",
       "\n",
       "    .dataframe tbody tr th {\n",
       "        vertical-align: top;\n",
       "    }\n",
       "\n",
       "    .dataframe thead th {\n",
       "        text-align: right;\n",
       "    }\n",
       "</style>\n",
       "<table border=\"1\" class=\"dataframe\">\n",
       "  <thead>\n",
       "    <tr style=\"text-align: right;\">\n",
       "      <th></th>\n",
       "      <th>values</th>\n",
       "    </tr>\n",
       "  </thead>\n",
       "  <tbody>\n",
       "    <tr>\n",
       "      <th>thrust_force</th>\n",
       "      <td>1008000 newton</td>\n",
       "    </tr>\n",
       "    <tr>\n",
       "      <th>air_density</th>\n",
       "      <td>0.8194 kilogram / meter ** 3</td>\n",
       "    </tr>\n",
       "    <tr>\n",
       "      <th>plane_area</th>\n",
       "      <td>747.56 meter ** 2</td>\n",
       "    </tr>\n",
       "    <tr>\n",
       "      <th>drag_coefficient</th>\n",
       "      <td>2.1</td>\n",
       "    </tr>\n",
       "    <tr>\n",
       "      <th>velocity</th>\n",
       "      <td>223.0 meter / second</td>\n",
       "    </tr>\n",
       "  </tbody>\n",
       "</table>\n",
       "</div>"
      ],
      "text/plain": [
       "thrust_force                      1008000 newton\n",
       "air_density         0.8194 kilogram / meter ** 3\n",
       "plane_area                     747.56 meter ** 2\n",
       "drag_coefficient                             2.1\n",
       "velocity                    223.0 meter / second\n",
       "dtype: object"
      ]
     },
     "execution_count": 8,
     "metadata": {},
     "output_type": "execute_result"
    }
   ],
   "source": [
    "params = Params(thrust_force=1008000*N,\n",
    "                air_density=.8194*kg/m**3,\n",
    "                plane_area=747.56*m**2,\n",
    "                drag_coefficient=2.1,\n",
    "                velocity=223*m/s)"
   ]
  },
  {
   "cell_type": "code",
   "execution_count": 9,
   "metadata": {},
   "outputs": [],
   "source": [
    "def calc_wind_components(wind_speed,wind_angle):\n",
    "    windX, windY = pol2cart(wind_angle,wind_speed)\n",
    "    wind_vec = Vector(windX,windY)\n",
    "    return wind_vec"
   ]
  },
  {
   "cell_type": "code",
   "execution_count": 10,
   "metadata": {},
   "outputs": [],
   "source": [
    "def calc_wind_force(wind_vec,air_density,plane_area):\n",
    "    wind_force = wind_vec**2 *.5*air_density*plane_area\n",
    "    return(wind_force)"
   ]
  },
  {
   "cell_type": "code",
   "execution_count": 11,
   "metadata": {},
   "outputs": [],
   "source": [
    "def calc_thrust_force(thrust_force, plane_angle):\n",
    "    thrustX, thrustY = pol2cart(wind_angle,thrust_force)\n",
    "    thrust_force_vec = Vector(thrustX,thrustY)\n",
    "    return thrust_force_vec"
   ]
  },
  {
   "cell_type": "code",
   "execution_count": 12,
   "metadata": {},
   "outputs": [],
   "source": [
    "def calc_velocity_components(velocity,plane_angle):\n",
    "    velocityX, velocityY = pol2cart(plane_angle,velocity)\n",
    "    velocity_vec = Vector(velocityX,velocityY)\n",
    "    return velocity_vec"
   ]
  },
  {
   "cell_type": "code",
   "execution_count": 13,
   "metadata": {},
   "outputs": [],
   "source": [
    "def calc_drag_force(drag_coefficient, velocity_vec, plane_area, air_density):\n",
    "    drag = velocity_vec ** 2 * drag_coefficient * .5 * plane_area * air_density\n",
    "    return drag"
   ]
  },
  {
   "cell_type": "code",
   "execution_count": 17,
   "metadata": {},
   "outputs": [],
   "source": [
    "def event_func(params):\n",
    "    x = 1\n",
    "    for i in linrange(2,30,4):\n",
    "        wind_speed=i*m/s\n",
    "        for j in linrange(0,91,1):\n",
    "            wind_angle=j\n",
    "            wind_vec = calc_wind_components(wind_speed, wind_angle)\n",
    "            wind_force_vec = calc_wind_force(wind_vec,params.air_density,params.plane_area)\n",
    "            thrust_force_vec = calc_thrust_force(params.thrust_force, params.plane_angle)\n",
    "            velocity_vec = calc_velocity_components(params.velocity, params.plane_angle)\n",
    "            drag_force_vec = calc_drag_force(params.drag_coefficient, velocity_vec, params.plane_area, params.air_density)\n",
    "            if(wind_force_vec[0]+drag_force_vec[0]==thrust_force_vec[0]):\n",
    "                x=0\n",
    "            else:\n",
    "                x=1\n",
    "    return x, plane_angle"
   ]
  },
  {
   "cell_type": "code",
   "execution_count": 18,
   "metadata": {},
   "outputs": [
    {
     "ename": "AttributeError",
     "evalue": "'Params' object has no attribute 'plane_angle'",
     "output_type": "error",
     "traceback": [
      "\u001b[1;31m---------------------------------------------------------------------------\u001b[0m",
      "\u001b[1;31mAttributeError\u001b[0m                            Traceback (most recent call last)",
      "\u001b[1;32m<ipython-input-18-519398ce9037>\u001b[0m in \u001b[0;36m<module>\u001b[1;34m()\u001b[0m\n\u001b[1;32m----> 1\u001b[1;33m \u001b[0mevent_func\u001b[0m\u001b[1;33m(\u001b[0m\u001b[0mparams\u001b[0m\u001b[1;33m)\u001b[0m\u001b[1;33m\u001b[0m\u001b[0m\n\u001b[0m",
      "\u001b[1;32m<ipython-input-17-83f84982fc2e>\u001b[0m in \u001b[0;36mevent_func\u001b[1;34m(params)\u001b[0m\n\u001b[0;32m      7\u001b[0m             \u001b[0mwind_vec\u001b[0m \u001b[1;33m=\u001b[0m \u001b[0mcalc_wind_components\u001b[0m\u001b[1;33m(\u001b[0m\u001b[0mwind_speed\u001b[0m\u001b[1;33m,\u001b[0m \u001b[0mwind_angle\u001b[0m\u001b[1;33m)\u001b[0m\u001b[1;33m\u001b[0m\u001b[0m\n\u001b[0;32m      8\u001b[0m             \u001b[0mwind_force_vec\u001b[0m \u001b[1;33m=\u001b[0m \u001b[0mcalc_wind_force\u001b[0m\u001b[1;33m(\u001b[0m\u001b[0mwind_vec\u001b[0m\u001b[1;33m,\u001b[0m\u001b[0mparams\u001b[0m\u001b[1;33m.\u001b[0m\u001b[0mair_density\u001b[0m\u001b[1;33m,\u001b[0m\u001b[0mparams\u001b[0m\u001b[1;33m.\u001b[0m\u001b[0mplane_area\u001b[0m\u001b[1;33m)\u001b[0m\u001b[1;33m\u001b[0m\u001b[0m\n\u001b[1;32m----> 9\u001b[1;33m             \u001b[0mthrust_force_vec\u001b[0m \u001b[1;33m=\u001b[0m \u001b[0mcalc_thrust_force\u001b[0m\u001b[1;33m(\u001b[0m\u001b[0mparams\u001b[0m\u001b[1;33m.\u001b[0m\u001b[0mthrust_force\u001b[0m\u001b[1;33m,\u001b[0m \u001b[0mparams\u001b[0m\u001b[1;33m.\u001b[0m\u001b[0mplane_angle\u001b[0m\u001b[1;33m)\u001b[0m\u001b[1;33m\u001b[0m\u001b[0m\n\u001b[0m\u001b[0;32m     10\u001b[0m             \u001b[0mvelocity_vec\u001b[0m \u001b[1;33m=\u001b[0m \u001b[0mcalc_velocity_components\u001b[0m\u001b[1;33m(\u001b[0m\u001b[0mparams\u001b[0m\u001b[1;33m.\u001b[0m\u001b[0mvelocity\u001b[0m\u001b[1;33m,\u001b[0m\u001b[0mparams\u001b[0m\u001b[1;33m.\u001b[0m\u001b[0mplane_angle\u001b[0m\u001b[1;33m)\u001b[0m\u001b[1;33m\u001b[0m\u001b[0m\n\u001b[0;32m     11\u001b[0m             \u001b[0mdrag_force_vec\u001b[0m \u001b[1;33m=\u001b[0m \u001b[0mcalc_drag_force\u001b[0m\u001b[1;33m(\u001b[0m\u001b[0mparams\u001b[0m\u001b[1;33m.\u001b[0m\u001b[0mdrag_coefficient\u001b[0m\u001b[1;33m,\u001b[0m \u001b[0mvelocity_vec\u001b[0m\u001b[1;33m,\u001b[0m \u001b[0mparams\u001b[0m\u001b[1;33m.\u001b[0m\u001b[0mplane_area\u001b[0m\u001b[1;33m,\u001b[0m \u001b[0mparams\u001b[0m\u001b[1;33m.\u001b[0m\u001b[0mair_density\u001b[0m\u001b[1;33m)\u001b[0m\u001b[1;33m\u001b[0m\u001b[0m\n",
      "\u001b[1;32mC:\\Miniconda3\\lib\\site-packages\\pandas\\core\\generic.py\u001b[0m in \u001b[0;36m__getattr__\u001b[1;34m(self, name)\u001b[0m\n\u001b[0;32m   4374\u001b[0m             \u001b[1;32mif\u001b[0m \u001b[0mself\u001b[0m\u001b[1;33m.\u001b[0m\u001b[0m_info_axis\u001b[0m\u001b[1;33m.\u001b[0m\u001b[0m_can_hold_identifiers_and_holds_name\u001b[0m\u001b[1;33m(\u001b[0m\u001b[0mname\u001b[0m\u001b[1;33m)\u001b[0m\u001b[1;33m:\u001b[0m\u001b[1;33m\u001b[0m\u001b[0m\n\u001b[0;32m   4375\u001b[0m                 \u001b[1;32mreturn\u001b[0m \u001b[0mself\u001b[0m\u001b[1;33m[\u001b[0m\u001b[0mname\u001b[0m\u001b[1;33m]\u001b[0m\u001b[1;33m\u001b[0m\u001b[0m\n\u001b[1;32m-> 4376\u001b[1;33m             \u001b[1;32mreturn\u001b[0m \u001b[0mobject\u001b[0m\u001b[1;33m.\u001b[0m\u001b[0m__getattribute__\u001b[0m\u001b[1;33m(\u001b[0m\u001b[0mself\u001b[0m\u001b[1;33m,\u001b[0m \u001b[0mname\u001b[0m\u001b[1;33m)\u001b[0m\u001b[1;33m\u001b[0m\u001b[0m\n\u001b[0m\u001b[0;32m   4377\u001b[0m \u001b[1;33m\u001b[0m\u001b[0m\n\u001b[0;32m   4378\u001b[0m     \u001b[1;32mdef\u001b[0m \u001b[0m__setattr__\u001b[0m\u001b[1;33m(\u001b[0m\u001b[0mself\u001b[0m\u001b[1;33m,\u001b[0m \u001b[0mname\u001b[0m\u001b[1;33m,\u001b[0m \u001b[0mvalue\u001b[0m\u001b[1;33m)\u001b[0m\u001b[1;33m:\u001b[0m\u001b[1;33m\u001b[0m\u001b[0m\n",
      "\u001b[1;31mAttributeError\u001b[0m: 'Params' object has no attribute 'plane_angle'"
     ]
    }
   ],
   "source": [
    "event_func(params)"
   ]
  },
  {
   "cell_type": "code",
   "execution_count": null,
   "metadata": {},
   "outputs": [],
   "source": [
    "for i in linrange(2,30,4):\n",
    "    wind_speed=i*m/s\n",
    "    for j in linrange(0,91,1):\n",
    "        wind_angle=j\n",
    "        wind_vec = calc_wind_components(wind_speed, wind_angle)\n",
    "        calc_wind_force(wind_vec,params.air_density,params.plane_area)"
   ]
  }
 ],
 "metadata": {
  "kernelspec": {
   "display_name": "Python 3",
   "language": "python",
   "name": "python3"
  },
  "language_info": {
   "codemirror_mode": {
    "name": "ipython",
    "version": 3
   },
   "file_extension": ".py",
   "mimetype": "text/x-python",
   "name": "python",
   "nbconvert_exporter": "python",
   "pygments_lexer": "ipython3",
   "version": "3.6.6"
  }
 },
 "nbformat": 4,
 "nbformat_minor": 2
}
